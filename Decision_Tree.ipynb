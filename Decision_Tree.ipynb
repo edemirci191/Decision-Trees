{
  "nbformat": 4,
  "nbformat_minor": 0,
  "metadata": {
    "colab": {
      "name": "Demirci_Emre_th5.ipynb",
      "provenance": [],
      "collapsed_sections": [],
      "toc_visible": true
    },
    "kernelspec": {
      "name": "python3",
      "display_name": "Python 3"
    }
  },
  "cells": [
    {
      "cell_type": "markdown",
      "metadata": {
        "id": "b790duluUho8"
      },
      "source": [
        "# Take-Home Exam 5: Decision Trees\n",
        "\n",
        "*In this take-home exam, you are going to work with decision trees and observe how it performs with different hyperparameter settings.*\n",
        "\n",
        "**Submission Instructions**\n",
        "\n",
        "---\n",
        "Copy this assignment to your Drive. <font color = 'red'> `File` --> `Save a copy in Drive`</font>. Rename it as <font color = 'green'>`Lastname_Firstname_th5`</font>.\n",
        "\n",
        "Write your solutions in the cells  marked <font color = 'green'>`# your code`</font>.\n",
        "\n",
        "When you're done please submit your solutions as an <font color=\"red\">`.ipynb`</font> file. To do so:\n",
        "\n",
        "\n",
        "1.  Click on <font color=\"red\">`File`</font>  at the top left on the Colab screen, then click on <font color = 'red'>`Download .ipynb`</font>.\n",
        "2.   Then submit the <font color=\"red\">`.ipynb`</font> version of your work on SUCourse.\n",
        "\n",
        "\n",
        "For any question, you may send an email to the TAs and LAs.\n",
        "\n",
        "---"
      ]
    },
    {
      "cell_type": "code",
      "metadata": {
        "id": "mTMBGHV_UxjB",
        "colab": {
          "base_uri": "https://localhost:8080/",
          "height": 34
        },
        "outputId": "7db5f3f3-251f-40c0-f03e-7a2200cd5979"
      },
      "source": [
        "from google.colab import drive\n",
        "drive.mount(\"/content/drive\", force_remount=True)\n",
        "\n",
        "path_prefix = \"/content/drive/My Drive\""
      ],
      "execution_count": null,
      "outputs": [
        {
          "output_type": "stream",
          "text": [
            "Mounted at /content/drive\n"
          ],
          "name": "stdout"
        }
      ]
    },
    {
      "cell_type": "code",
      "metadata": {
        "id": "9ulyIEtTU4_X"
      },
      "source": [
        "import pandas as pd\n",
        "import numpy as np\n",
        "import matplotlib.pyplot as plt\n",
        "from os.path import join\n",
        "\n",
        "%matplotlib inline"
      ],
      "execution_count": null,
      "outputs": []
    },
    {
      "cell_type": "markdown",
      "metadata": {
        "id": "numRKpzYU_iR"
      },
      "source": [
        "## Constructing a Decision Tree\n",
        "\n",
        "A decision tree can be formulated as a regular tree structure in which nodes correspond to rules, condition checks and leaves correspond to prediction values. The construction process should be steered carefully. A tree that is grown without any constraint/limit may affect the performance drastically. In this exercise, you are going to train two different decision trees and observe how their classification boundaries change with respect to train data and then measure their performance on the test data.\n",
        "\n",
        "To this end, you will be working with `data.csv` file that contains two features, namely `x` and `y`, and the target attribute `label`."
      ]
    },
    {
      "cell_type": "code",
      "metadata": {
        "id": "HEJwOmhiJzkq",
        "colab": {
          "base_uri": "https://localhost:8080/",
          "height": 204
        },
        "outputId": "8447eb45-41c8-432d-d812-2ad25272501c"
      },
      "source": [
        "filename = \"data.csv\"\n",
        "df = pd.read_csv(join(path_prefix, filename))\n",
        "df.head()"
      ],
      "execution_count": null,
      "outputs": [
        {
          "output_type": "execute_result",
          "data": {
            "text/html": [
              "<div>\n",
              "<style scoped>\n",
              "    .dataframe tbody tr th:only-of-type {\n",
              "        vertical-align: middle;\n",
              "    }\n",
              "\n",
              "    .dataframe tbody tr th {\n",
              "        vertical-align: top;\n",
              "    }\n",
              "\n",
              "    .dataframe thead th {\n",
              "        text-align: right;\n",
              "    }\n",
              "</style>\n",
              "<table border=\"1\" class=\"dataframe\">\n",
              "  <thead>\n",
              "    <tr style=\"text-align: right;\">\n",
              "      <th></th>\n",
              "      <th>x</th>\n",
              "      <th>y</th>\n",
              "      <th>label</th>\n",
              "    </tr>\n",
              "  </thead>\n",
              "  <tbody>\n",
              "    <tr>\n",
              "      <th>0</th>\n",
              "      <td>5.1</td>\n",
              "      <td>3.5</td>\n",
              "      <td>0.0</td>\n",
              "    </tr>\n",
              "    <tr>\n",
              "      <th>1</th>\n",
              "      <td>4.9</td>\n",
              "      <td>3.0</td>\n",
              "      <td>0.0</td>\n",
              "    </tr>\n",
              "    <tr>\n",
              "      <th>2</th>\n",
              "      <td>4.7</td>\n",
              "      <td>3.2</td>\n",
              "      <td>0.0</td>\n",
              "    </tr>\n",
              "    <tr>\n",
              "      <th>3</th>\n",
              "      <td>4.6</td>\n",
              "      <td>3.1</td>\n",
              "      <td>0.0</td>\n",
              "    </tr>\n",
              "    <tr>\n",
              "      <th>4</th>\n",
              "      <td>5.0</td>\n",
              "      <td>3.6</td>\n",
              "      <td>0.0</td>\n",
              "    </tr>\n",
              "  </tbody>\n",
              "</table>\n",
              "</div>"
            ],
            "text/plain": [
              "     x    y  label\n",
              "0  5.1  3.5    0.0\n",
              "1  4.9  3.0    0.0\n",
              "2  4.7  3.2    0.0\n",
              "3  4.6  3.1    0.0\n",
              "4  5.0  3.6    0.0"
            ]
          },
          "metadata": {
            "tags": []
          },
          "execution_count": 3
        }
      ]
    },
    {
      "cell_type": "markdown",
      "metadata": {
        "id": "M5IpA-s-WNKY"
      },
      "source": [
        "### Q1: Classification Boundaries\n",
        "\n",
        "In this task, you will analyze how different hyperparameter settings affect the classification boundaries for decision trees. \n",
        "\n",
        "Below, you may find the function from the previous take-home exam to display the classification boundaries. However, the function is slightly changed. In addition to the previous parameters, it expects two more:\n",
        "\n",
        "- `model` -> a model you generated\n",
        "- `data` -> the feature set to train the `model` \n",
        "- `labels` -> corresponding label values \n",
        "- `ax` -> an axes object to plot the classification boundaries of the given model\n",
        "- `title` -> the title of the given `ax` object\n",
        "\n",
        "The function still trains the model, but you should also provide the data to be trained on. \n",
        "\n",
        "**Important:** The parameters `data` and `labels` should be numpy arrays, i.e. you should work with df[[\"x\", \"y\"]].values which returns the numpy array of the specified columns.\n",
        "\n",
        "---\n",
        "\n",
        "1. Split the original data into two folds, namely *train* and *test*, in which 20% is reserved for the test data. Here, it's important that you **set the random_state parameter to 1** in train_test_split function.\n",
        "\n",
        "2. Generate two different decision tree models. \n",
        "\n",
        "  - The first one should be generated with hyperparameter **`min_samples_leaf` set to 1**. `min_samples_leaf` is the minimum number of samples required to be at a leaf node. \n",
        "\n",
        "  - The second decision tree model should be initialized with **`min_samples_leaf` set to 5** and **`max_depth` set to 4**. `max_depth` hyperparameter controls the maximum depth of the tree.\n",
        "\n",
        "3. Display the resulting classification boundaries in a **1x2 layout**. Utilize the axes titles to highlight the models.\n",
        "\n",
        "  - Here, you should **put the train data as a parameter to the `visualize_model` function**, i.e. the function call should be visualize_model(model, x_train, y_train, ax, title).\n",
        "\n",
        "\n",
        "Once you generate the boundaries, comment on the results. Disscuss the model performances with respect to generalizability, i.e. which model would perform better with unseen test data."
      ]
    },
    {
      "cell_type": "code",
      "metadata": {
        "id": "MDO5TfubKFJR"
      },
      "source": [
        "from matplotlib.colors import ListedColormap\n",
        "from ipywidgets import interact\n",
        "\n",
        "def visualize_model(model, data, labels, ax, title):\n",
        "  step = 0.05\n",
        "\n",
        "  cmap_light = ListedColormap(['orange', 'cyan', 'cornflowerblue'])\n",
        "  cmap_bold = ListedColormap(['darkorange', 'c', 'darkblue'])\n",
        "\n",
        "  model.fit(data, labels)\n",
        "\n",
        "  x_min = data[:, 0].min() - 1\n",
        "  x_max = data[:, 0].max() + 1\n",
        "  y_min = data[:, 1].min() - 1\n",
        "  y_max = data[:, 1].max() + 1\n",
        "\n",
        "  xx, yy = np.meshgrid(np.arange(x_min, x_max, step), np.arange(y_min, y_max, step))\n",
        "  y_pred = model.predict(np.hstack([xx.reshape(-1,1), yy.reshape(-1,1)])).reshape(xx.shape)\n",
        "\n",
        "  ax.pcolormesh(xx, yy, y_pred, cmap=cmap_light)\n",
        "  ax.scatter(data[:, 0], data[:, 1], c=labels, cmap=cmap_bold, edgecolor='k', s=20)\n",
        "  ax.set_xlim(xx.min(), xx.max())\n",
        "  ax.set_ylim(yy.min(), yy.max())\n",
        "  ax.set_title(title)"
      ],
      "execution_count": null,
      "outputs": []
    },
    {
      "cell_type": "code",
      "metadata": {
        "id": "ie7SM8f3Y5Wm",
        "colab": {
          "base_uri": "https://localhost:8080/",
          "height": 281
        },
        "outputId": "bc8dd851-cedb-4a0b-8598-2ca547f07efb"
      },
      "source": [
        "# your code\n",
        "from sklearn import tree\n",
        "from sklearn.model_selection import train_test_split\n",
        "\n",
        "#1) split the data two fold 20 and 80 paramater = 1\n",
        "# df[[\"x\", \"y\"]].values df[\"label\"].values (for labels)\n",
        "X = df.drop('label', axis=1) \n",
        "y = df['label']              \n",
        "X_train, X_test, y_train, y_test = train_test_split(X, y, random_state=1, test_size=0.20)\n",
        "# Create model\n",
        "fig, axs = plt.subplots(1,2)\n",
        "titles = [\"Model 1\",\"Model 2\"]\n",
        "model1 = tree.DecisionTreeClassifier(min_samples_leaf = 1) #Create decision tree classifier object\n",
        "model2 = tree.DecisionTreeClassifier(max_depth = 4,min_samples_leaf = 5) #Create another decision tree classifier object\n",
        "\n",
        "visualize_model(model1,X_train.values,y_train.values,axs[0],titles[0])\n",
        "visualize_model(model2,X_train.values,y_train.values,axs[1],titles[1])\n",
        "\n"
      ],
      "execution_count": null,
      "outputs": [
        {
          "output_type": "display_data",
          "data": {
            "image/png": "[encoded data removed]",
            "text/plain": [
              "<Figure size 432x288 with 2 Axes>"
            ]
          },
          "metadata": {
            "tags": [],
            "needs_background": "light"
          }
        }
      ]
    },
    {
      "cell_type": "markdown",
      "metadata": {
        "id": "wcfbZGVaY6I-"
      },
      "source": [
        "<font color=\"blue\">[Double Click to Insert Your Comments]</font>\n",
        "\n",
        "\n",
        "In Model 1, whole left bottom corner is orange because of only one orange dot.  However in model 2 i see a better and more stable distrubition, little dots does not effect the overall color that much. "
      ]
    },
    {
      "cell_type": "markdown",
      "metadata": {
        "id": "JVM-QY1Ng51z"
      },
      "source": [
        "### Q2: Model Performance\n",
        "\n",
        "In the previous task, you performed a visual inspection on the decision tree models. Here, you are going to compare the performance with respect to the test data. And then solidify your findings with cross validation.\n",
        "\n",
        "1. For both of the models, find the accuracy score on the train data. \n",
        "  - Here, the models are already trained with the train data. Measure the performance of the models on the train data.\n",
        "\n",
        "2. For both of the models, find the accuracy score on the test data.\n",
        "\n",
        "Once you extract the accuracy values, display the model performances' in a bar chart. An exemplary figure can be found below. \n",
        "\n",
        "<img height=\"300\" widht=\"300\" src=\"https://i.ibb.co/gjDm65z/gg.png\"/>\n",
        "\n",
        "Compare the models in terms of their performance on train and test data. Discuss the difference between the results. And try to explain the reason behind the difference."
      ]
    },
    {
      "cell_type": "code",
      "metadata": {
        "id": "kVQYq7N7m-QO",
        "colab": {
          "base_uri": "https://localhost:8080/",
          "height": 442
        },
        "outputId": "f18fd4f5-e51f-48d4-e04e-c797ce1593e8"
      },
      "source": [
        "  # your code\n",
        "from sklearn.metrics import accuracy_score, precision_score, recall_score, roc_auc_score, roc_curve\n",
        "import pandas\n",
        "import matplotlib.pyplot as plt\n",
        "import numpy as np\n",
        "#***** Start: 1. accuracy score on train data*****\n",
        "dt_model1_train = model1.predict(X_train)\n",
        "dt_model2_train = model2.predict(X_train)\n",
        "dt_model1_acc_train = accuracy_score(y_train, dt_model1_train)\n",
        "dt_model2_acc_train = accuracy_score(y_train, dt_model2_train)\n",
        "#*****  End: 1. accuracy score on train data******\n",
        "\n",
        "#***** Start: 2. accuracy score on test data*****\n",
        "dt_model1_test = model1.predict(X_test)\n",
        "dt_model2_test = model2.predict(X_test)\n",
        "dt_model1_acc_test = accuracy_score(y_test, dt_model1_test)\n",
        "dt_model2_acc_test = accuracy_score(y_test, dt_model2_test)\n",
        "#*****  End: 2. accuracy score on test data******\n",
        "\n",
        "test = [dt_model1_acc_test, dt_model2_acc_test]\n",
        "train = [dt_model1_acc_train, dt_model2_acc_train]\n",
        "index = ['Model with min_leaf_samples = 1', 'Model with min_leaf_samples = 5 max_depth = 4']\n",
        "df_plot = pd.DataFrame({'test': test,'train': train}, index=index)\n",
        "ax = df_plot.plot.barh(grid = True, figsize=(10, 6))\n",
        "print(\"Model 1 : Decision Tree Accuracy on test data:\" +str(dt_model1_acc_test))\n",
        "print(\"Model 1 : Decision Tree Accuracy on train data:\" +str(dt_model1_acc_train))\n",
        "print(\"Model 2 : Decision Tree Accuracy on test data:\" +str(dt_model2_acc_test))\n",
        "print(\"Model 2 : Decision Tree Accuracy on train data:\" +str(dt_model2_acc_train))\n"
      ],
      "execution_count": null,
      "outputs": [
        {
          "output_type": "stream",
          "text": [
            "Model 1 : Decision Tree Accuracy on test data:0.7333333333333333\n",
            "Model 1 : Decision Tree Accuracy on train data:0.9416666666666667\n",
            "Model 2 : Decision Tree Accuracy on test data:0.8333333333333334\n",
            "Model 2 : Decision Tree Accuracy on train data:0.7916666666666666\n"
          ],
          "name": "stdout"
        },
        {
          "output_type": "display_data",
          "data": {
            "image/png": "[encoded data removed]",
            "text/plain": [
              "<Figure size 720x432 with 1 Axes>"
            ]
          },
          "metadata": {
            "tags": [],
            "needs_background": "light"
          }
        }
      ]
    },
    {
      "cell_type": "markdown",
      "metadata": {
        "id": "C5a0F5psnAhw"
      },
      "source": [
        "<font color=\"blue\">[Double Click to Insert Your Comments]</font>\n",
        "\n",
        "\n",
        "Model 1 which has 1 leaf sample has higher accuracy in train case. In this model (model 1, min_leaf_sample = 1) test accuracy is lower which is a not a good thing because we trained on trained data. In model 2, which has max_depth = 4 it is better than model 1 in test case which is a good thing. but it has lower accuracy score on train case. However this results highly depend on the random splitting procedure, in order to get more reliable results we can use cross validation.\n",
        "\n"
      ]
    },
    {
      "cell_type": "markdown",
      "metadata": {
        "id": "cRnxL72av86T"
      },
      "source": [
        "### Q3: Cross Validation\n",
        "\n",
        "Train-test splitting based model evaluations highly depend on the random splitting procedure. In order to evaluate your models in a more robust manner, you may apply cross validation.\n",
        "\n",
        "Here, apply 10-Fold cross validation for both of the models and discuss the results.\n",
        "\n",
        "1. Generate both of the models with the same set of hyperparameter settings.\n",
        "\n",
        "2. Evalute your models with 10-Fold cross validation.\n",
        "\n",
        "  - Here, you should be working with the original data. There is no need for the train/test folds.\n",
        "\n",
        "Once you obtain the cross validation accuracy values, discuss the results. Which model is better and why? "
      ]
    },
    {
      "cell_type": "code",
      "metadata": {
        "id": "02VxBBxC1Xbm",
        "colab": {
          "base_uri": "https://localhost:8080/",
          "height": 119
        },
        "outputId": "32f761ca-ec28-4d91-f171-21053d352d30"
      },
      "source": [
        "# your code\n",
        "from sklearn.model_selection import cross_val_score\n",
        "\n",
        "# 1) Generate both of the models with same set of hyparameter settings,\n",
        "model1 = tree.DecisionTreeClassifier(min_samples_leaf = 1) \n",
        "model2 = tree.DecisionTreeClassifier(max_depth = 4,min_samples_leaf = 5) \n",
        "\n",
        "# X is my original data for features\n",
        "# y is my original data for label\n",
        "# Set cv = 10\n",
        "# 2) Evaluate models with cv = 10\n",
        "model1_accuracies = cross_val_score(model1, X, y, cv=10) # i am working with the original data X and y\n",
        "model2_accuracies = cross_val_score(model2, X, y, cv=10)\n",
        "print(\"Model 1 accuracies:\", model1_accuracies)\n",
        "print(\"Model 2 accuracies:\", model2_accuracies)\n",
        "\n",
        "# Validation accuracy can be estimated using the mean of the CV accuracies\n",
        "# Bonus: we can calculate a standard deviation over the different folds\n",
        "print(\"Accuracy for Model 1: %0.2f (+/- %0.2f)\" % (model1_accuracies.mean(), model1_accuracies.std() * 2))\n",
        "print(\"Accuracy for Model 2: %0.2f (+/- %0.2f)\" % (model2_accuracies.mean(), model2_accuracies.std() * 2))"
      ],
      "execution_count": null,
      "outputs": [
        {
          "output_type": "stream",
          "text": [
            "Model 1 accuracies: [0.53333333 0.8        0.6        0.73333333 0.66666667 0.6\n",
            " 0.73333333 0.66666667 0.53333333 0.73333333]\n",
            "Model 2 accuracies: [0.66666667 0.73333333 0.86666667 0.8        0.53333333 0.66666667\n",
            " 0.73333333 0.73333333 0.6        0.86666667]\n",
            "Accuracy for Model 1: 0.66 (+/- 0.17)\n",
            "Accuracy for Model 2: 0.72 (+/- 0.20)\n"
          ],
          "name": "stdout"
        }
      ]
    },
    {
      "cell_type": "markdown",
      "metadata": {
        "id": "4Ivix50U1aXd"
      },
      "source": [
        "<font color=\"blue\">[Double Click to Insert Your Comments]</font>\n",
        "\n",
        "In my opinion Model 2 performs better than Model 1 because accuracy is higher when compared to Model 1 ( 0.72 vs 0.66). It performs approximately %6 better than Model 1. When we calculate the standart deviation in these two models over different folds there is not much difference between the two its just 0.03. If i had to choose one of these models in order to use i would go with Model No.2"
      ]
    }
  ]
}